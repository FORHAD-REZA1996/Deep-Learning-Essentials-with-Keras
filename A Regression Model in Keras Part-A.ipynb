{
    "cells": [
        {
            "metadata": {},
            "cell_type": "code",
            "source": "import pandas as pd\nimport numpy as np",
            "execution_count": 15,
            "outputs": []
        },
        {
            "metadata": {},
            "cell_type": "code",
            "source": "!wget -O concrete_data.csv https://cocl.us/concrete_data",
            "execution_count": 18,
            "outputs": [
                {
                    "output_type": "stream",
                    "text": "--2020-05-29 18:32:34--  https://cocl.us/concrete_data\nResolving cocl.us (cocl.us)... 169.48.113.194, 158.85.108.83, 158.85.108.86\nConnecting to cocl.us (cocl.us)|169.48.113.194|:443... connected.\nHTTP request sent, awaiting response... 301 Moved Permanently\nLocation: https://s3-api.us-geo.objectstorage.softlayer.net/cf-courses-data/CognitiveClass/DL0101EN/labs/data/concrete_data.csv [following]\n--2020-05-29 18:32:38--  https://s3-api.us-geo.objectstorage.softlayer.net/cf-courses-data/CognitiveClass/DL0101EN/labs/data/concrete_data.csv\nResolving s3-api.us-geo.objectstorage.softlayer.net (s3-api.us-geo.objectstorage.softlayer.net)... 67.228.254.196\nConnecting to s3-api.us-geo.objectstorage.softlayer.net (s3-api.us-geo.objectstorage.softlayer.net)|67.228.254.196|:443... connected.\nHTTP request sent, awaiting response... 200 OK\nLength: 58988 (58K) [text/csv]\nSaving to: \u2018concrete_data.csv\u2019\n\n100%[======================================>] 58,988      --.-K/s   in 0.004s  \n\n2020-05-29 18:32:38 (15.8 MB/s) - \u2018concrete_data.csv\u2019 saved [58988/58988]\n\n",
                    "name": "stdout"
                }
            ]
        },
        {
            "metadata": {
                "scrolled": true
            },
            "cell_type": "code",
            "source": "\nconcrete_data = pd.read_csv('concrete_data.csv')\nconcrete_data.head()",
            "execution_count": 19,
            "outputs": [
                {
                    "output_type": "execute_result",
                    "execution_count": 19,
                    "data": {
                        "text/plain": "   Cement  Blast Furnace Slag  Fly Ash  Water  Superplasticizer  \\\n0   540.0                 0.0      0.0  162.0               2.5   \n1   540.0                 0.0      0.0  162.0               2.5   \n2   332.5               142.5      0.0  228.0               0.0   \n3   332.5               142.5      0.0  228.0               0.0   \n4   198.6               132.4      0.0  192.0               0.0   \n\n   Coarse Aggregate  Fine Aggregate  Age  Strength  \n0            1040.0           676.0   28     79.99  \n1            1055.0           676.0   28     61.89  \n2             932.0           594.0  270     40.27  \n3             932.0           594.0  365     41.05  \n4             978.4           825.5  360     44.30  ",
                        "text/html": "<div>\n<style scoped>\n    .dataframe tbody tr th:only-of-type {\n        vertical-align: middle;\n    }\n\n    .dataframe tbody tr th {\n        vertical-align: top;\n    }\n\n    .dataframe thead th {\n        text-align: right;\n    }\n</style>\n<table border=\"1\" class=\"dataframe\">\n  <thead>\n    <tr style=\"text-align: right;\">\n      <th></th>\n      <th>Cement</th>\n      <th>Blast Furnace Slag</th>\n      <th>Fly Ash</th>\n      <th>Water</th>\n      <th>Superplasticizer</th>\n      <th>Coarse Aggregate</th>\n      <th>Fine Aggregate</th>\n      <th>Age</th>\n      <th>Strength</th>\n    </tr>\n  </thead>\n  <tbody>\n    <tr>\n      <th>0</th>\n      <td>540.0</td>\n      <td>0.0</td>\n      <td>0.0</td>\n      <td>162.0</td>\n      <td>2.5</td>\n      <td>1040.0</td>\n      <td>676.0</td>\n      <td>28</td>\n      <td>79.99</td>\n    </tr>\n    <tr>\n      <th>1</th>\n      <td>540.0</td>\n      <td>0.0</td>\n      <td>0.0</td>\n      <td>162.0</td>\n      <td>2.5</td>\n      <td>1055.0</td>\n      <td>676.0</td>\n      <td>28</td>\n      <td>61.89</td>\n    </tr>\n    <tr>\n      <th>2</th>\n      <td>332.5</td>\n      <td>142.5</td>\n      <td>0.0</td>\n      <td>228.0</td>\n      <td>0.0</td>\n      <td>932.0</td>\n      <td>594.0</td>\n      <td>270</td>\n      <td>40.27</td>\n    </tr>\n    <tr>\n      <th>3</th>\n      <td>332.5</td>\n      <td>142.5</td>\n      <td>0.0</td>\n      <td>228.0</td>\n      <td>0.0</td>\n      <td>932.0</td>\n      <td>594.0</td>\n      <td>365</td>\n      <td>41.05</td>\n    </tr>\n    <tr>\n      <th>4</th>\n      <td>198.6</td>\n      <td>132.4</td>\n      <td>0.0</td>\n      <td>192.0</td>\n      <td>0.0</td>\n      <td>978.4</td>\n      <td>825.5</td>\n      <td>360</td>\n      <td>44.30</td>\n    </tr>\n  </tbody>\n</table>\n</div>"
                    },
                    "metadata": {}
                }
            ]
        },
        {
            "metadata": {},
            "cell_type": "code",
            "source": "concrete_data.shape",
            "execution_count": 22,
            "outputs": [
                {
                    "output_type": "execute_result",
                    "execution_count": 22,
                    "data": {
                        "text/plain": "(1030, 9)"
                    },
                    "metadata": {}
                }
            ]
        },
        {
            "metadata": {},
            "cell_type": "code",
            "source": "concrete_data.describe()",
            "execution_count": 23,
            "outputs": [
                {
                    "output_type": "execute_result",
                    "execution_count": 23,
                    "data": {
                        "text/plain": "            Cement  Blast Furnace Slag      Fly Ash        Water  \\\ncount  1030.000000         1030.000000  1030.000000  1030.000000   \nmean    281.167864           73.895825    54.188350   181.567282   \nstd     104.506364           86.279342    63.997004    21.354219   \nmin     102.000000            0.000000     0.000000   121.800000   \n25%     192.375000            0.000000     0.000000   164.900000   \n50%     272.900000           22.000000     0.000000   185.000000   \n75%     350.000000          142.950000   118.300000   192.000000   \nmax     540.000000          359.400000   200.100000   247.000000   \n\n       Superplasticizer  Coarse Aggregate  Fine Aggregate          Age  \\\ncount       1030.000000       1030.000000     1030.000000  1030.000000   \nmean           6.204660        972.918932      773.580485    45.662136   \nstd            5.973841         77.753954       80.175980    63.169912   \nmin            0.000000        801.000000      594.000000     1.000000   \n25%            0.000000        932.000000      730.950000     7.000000   \n50%            6.400000        968.000000      779.500000    28.000000   \n75%           10.200000       1029.400000      824.000000    56.000000   \nmax           32.200000       1145.000000      992.600000   365.000000   \n\n          Strength  \ncount  1030.000000  \nmean     35.817961  \nstd      16.705742  \nmin       2.330000  \n25%      23.710000  \n50%      34.445000  \n75%      46.135000  \nmax      82.600000  ",
                        "text/html": "<div>\n<style scoped>\n    .dataframe tbody tr th:only-of-type {\n        vertical-align: middle;\n    }\n\n    .dataframe tbody tr th {\n        vertical-align: top;\n    }\n\n    .dataframe thead th {\n        text-align: right;\n    }\n</style>\n<table border=\"1\" class=\"dataframe\">\n  <thead>\n    <tr style=\"text-align: right;\">\n      <th></th>\n      <th>Cement</th>\n      <th>Blast Furnace Slag</th>\n      <th>Fly Ash</th>\n      <th>Water</th>\n      <th>Superplasticizer</th>\n      <th>Coarse Aggregate</th>\n      <th>Fine Aggregate</th>\n      <th>Age</th>\n      <th>Strength</th>\n    </tr>\n  </thead>\n  <tbody>\n    <tr>\n      <th>count</th>\n      <td>1030.000000</td>\n      <td>1030.000000</td>\n      <td>1030.000000</td>\n      <td>1030.000000</td>\n      <td>1030.000000</td>\n      <td>1030.000000</td>\n      <td>1030.000000</td>\n      <td>1030.000000</td>\n      <td>1030.000000</td>\n    </tr>\n    <tr>\n      <th>mean</th>\n      <td>281.167864</td>\n      <td>73.895825</td>\n      <td>54.188350</td>\n      <td>181.567282</td>\n      <td>6.204660</td>\n      <td>972.918932</td>\n      <td>773.580485</td>\n      <td>45.662136</td>\n      <td>35.817961</td>\n    </tr>\n    <tr>\n      <th>std</th>\n      <td>104.506364</td>\n      <td>86.279342</td>\n      <td>63.997004</td>\n      <td>21.354219</td>\n      <td>5.973841</td>\n      <td>77.753954</td>\n      <td>80.175980</td>\n      <td>63.169912</td>\n      <td>16.705742</td>\n    </tr>\n    <tr>\n      <th>min</th>\n      <td>102.000000</td>\n      <td>0.000000</td>\n      <td>0.000000</td>\n      <td>121.800000</td>\n      <td>0.000000</td>\n      <td>801.000000</td>\n      <td>594.000000</td>\n      <td>1.000000</td>\n      <td>2.330000</td>\n    </tr>\n    <tr>\n      <th>25%</th>\n      <td>192.375000</td>\n      <td>0.000000</td>\n      <td>0.000000</td>\n      <td>164.900000</td>\n      <td>0.000000</td>\n      <td>932.000000</td>\n      <td>730.950000</td>\n      <td>7.000000</td>\n      <td>23.710000</td>\n    </tr>\n    <tr>\n      <th>50%</th>\n      <td>272.900000</td>\n      <td>22.000000</td>\n      <td>0.000000</td>\n      <td>185.000000</td>\n      <td>6.400000</td>\n      <td>968.000000</td>\n      <td>779.500000</td>\n      <td>28.000000</td>\n      <td>34.445000</td>\n    </tr>\n    <tr>\n      <th>75%</th>\n      <td>350.000000</td>\n      <td>142.950000</td>\n      <td>118.300000</td>\n      <td>192.000000</td>\n      <td>10.200000</td>\n      <td>1029.400000</td>\n      <td>824.000000</td>\n      <td>56.000000</td>\n      <td>46.135000</td>\n    </tr>\n    <tr>\n      <th>max</th>\n      <td>540.000000</td>\n      <td>359.400000</td>\n      <td>200.100000</td>\n      <td>247.000000</td>\n      <td>32.200000</td>\n      <td>1145.000000</td>\n      <td>992.600000</td>\n      <td>365.000000</td>\n      <td>82.600000</td>\n    </tr>\n  </tbody>\n</table>\n</div>"
                    },
                    "metadata": {}
                }
            ]
        },
        {
            "metadata": {},
            "cell_type": "code",
            "source": "concrete_data.isnull().sum()",
            "execution_count": 24,
            "outputs": [
                {
                    "output_type": "execute_result",
                    "execution_count": 24,
                    "data": {
                        "text/plain": "Cement                0\nBlast Furnace Slag    0\nFly Ash               0\nWater                 0\nSuperplasticizer      0\nCoarse Aggregate      0\nFine Aggregate        0\nAge                   0\nStrength              0\ndtype: int64"
                    },
                    "metadata": {}
                }
            ]
        },
        {
            "metadata": {},
            "cell_type": "code",
            "source": "concrete_data_columns = concrete_data.columns\npredictors = concrete_data[concrete_data_columns[concrete_data_columns != 'Strength']] # all columns except Strength\ntarget = concrete_data['Strength'] # Strength column",
            "execution_count": 25,
            "outputs": []
        },
        {
            "metadata": {},
            "cell_type": "code",
            "source": "\npredictors.head()",
            "execution_count": 26,
            "outputs": [
                {
                    "output_type": "execute_result",
                    "execution_count": 26,
                    "data": {
                        "text/plain": "   Cement  Blast Furnace Slag  Fly Ash  Water  Superplasticizer  \\\n0   540.0                 0.0      0.0  162.0               2.5   \n1   540.0                 0.0      0.0  162.0               2.5   \n2   332.5               142.5      0.0  228.0               0.0   \n3   332.5               142.5      0.0  228.0               0.0   \n4   198.6               132.4      0.0  192.0               0.0   \n\n   Coarse Aggregate  Fine Aggregate  Age  \n0            1040.0           676.0   28  \n1            1055.0           676.0   28  \n2             932.0           594.0  270  \n3             932.0           594.0  365  \n4             978.4           825.5  360  ",
                        "text/html": "<div>\n<style scoped>\n    .dataframe tbody tr th:only-of-type {\n        vertical-align: middle;\n    }\n\n    .dataframe tbody tr th {\n        vertical-align: top;\n    }\n\n    .dataframe thead th {\n        text-align: right;\n    }\n</style>\n<table border=\"1\" class=\"dataframe\">\n  <thead>\n    <tr style=\"text-align: right;\">\n      <th></th>\n      <th>Cement</th>\n      <th>Blast Furnace Slag</th>\n      <th>Fly Ash</th>\n      <th>Water</th>\n      <th>Superplasticizer</th>\n      <th>Coarse Aggregate</th>\n      <th>Fine Aggregate</th>\n      <th>Age</th>\n    </tr>\n  </thead>\n  <tbody>\n    <tr>\n      <th>0</th>\n      <td>540.0</td>\n      <td>0.0</td>\n      <td>0.0</td>\n      <td>162.0</td>\n      <td>2.5</td>\n      <td>1040.0</td>\n      <td>676.0</td>\n      <td>28</td>\n    </tr>\n    <tr>\n      <th>1</th>\n      <td>540.0</td>\n      <td>0.0</td>\n      <td>0.0</td>\n      <td>162.0</td>\n      <td>2.5</td>\n      <td>1055.0</td>\n      <td>676.0</td>\n      <td>28</td>\n    </tr>\n    <tr>\n      <th>2</th>\n      <td>332.5</td>\n      <td>142.5</td>\n      <td>0.0</td>\n      <td>228.0</td>\n      <td>0.0</td>\n      <td>932.0</td>\n      <td>594.0</td>\n      <td>270</td>\n    </tr>\n    <tr>\n      <th>3</th>\n      <td>332.5</td>\n      <td>142.5</td>\n      <td>0.0</td>\n      <td>228.0</td>\n      <td>0.0</td>\n      <td>932.0</td>\n      <td>594.0</td>\n      <td>365</td>\n    </tr>\n    <tr>\n      <th>4</th>\n      <td>198.6</td>\n      <td>132.4</td>\n      <td>0.0</td>\n      <td>192.0</td>\n      <td>0.0</td>\n      <td>978.4</td>\n      <td>825.5</td>\n      <td>360</td>\n    </tr>\n  </tbody>\n</table>\n</div>"
                    },
                    "metadata": {}
                }
            ]
        },
        {
            "metadata": {},
            "cell_type": "code",
            "source": "target.head()",
            "execution_count": 27,
            "outputs": [
                {
                    "output_type": "execute_result",
                    "execution_count": 27,
                    "data": {
                        "text/plain": "0    79.99\n1    61.89\n2    40.27\n3    41.05\n4    44.30\nName: Strength, dtype: float64"
                    },
                    "metadata": {}
                }
            ]
        },
        {
            "metadata": {},
            "cell_type": "code",
            "source": "\nn_cols = predictors.shape[1] # number of predictors\nn_cols",
            "execution_count": 28,
            "outputs": [
                {
                    "output_type": "execute_result",
                    "execution_count": 28,
                    "data": {
                        "text/plain": "8"
                    },
                    "metadata": {}
                }
            ]
        },
        {
            "metadata": {},
            "cell_type": "code",
            "source": "\nimport keras",
            "execution_count": 29,
            "outputs": [
                {
                    "output_type": "stream",
                    "text": "Using TensorFlow backend.\n",
                    "name": "stderr"
                }
            ]
        },
        {
            "metadata": {},
            "cell_type": "code",
            "source": "\nfrom keras.models import Sequential\nfrom keras.layers import Dense",
            "execution_count": 30,
            "outputs": []
        },
        {
            "metadata": {},
            "cell_type": "code",
            "source": "# define regression model\ndef regression_model():\n    # create model\n    model = Sequential()\n    model.add(Dense(10, activation='relu', input_shape=(n_cols,)))\n    model.add(Dense(1))\n    \n    # compile model\n    model.compile(optimizer='adam', loss='mean_squared_error')\n    return model",
            "execution_count": 31,
            "outputs": []
        },
        {
            "metadata": {},
            "cell_type": "code",
            "source": "from sklearn.model_selection import train_test_split",
            "execution_count": 32,
            "outputs": []
        },
        {
            "metadata": {},
            "cell_type": "code",
            "source": "\nX_train, X_test, y_train, y_test = train_test_split(predictors, target, test_size=0.3, random_state=42)",
            "execution_count": 33,
            "outputs": []
        },
        {
            "metadata": {},
            "cell_type": "code",
            "source": "# build the model\nmodel = regression_model()",
            "execution_count": 35,
            "outputs": []
        },
        {
            "metadata": {},
            "cell_type": "code",
            "source": "\n# fit the model\nepochs = 50\nmodel.fit(X_train, y_train, epochs=epochs, verbose=1)\n",
            "execution_count": 36,
            "outputs": [
                {
                    "output_type": "stream",
                    "text": "WARNING:tensorflow:From /opt/conda/envs/Python36/lib/python3.6/site-packages/tensorflow/python/ops/math_ops.py:3066: to_int32 (from tensorflow.python.ops.math_ops) is deprecated and will be removed in a future version.\nInstructions for updating:\nUse tf.cast instead.\nEpoch 1/50\n721/721 [==============================] - 1s 1ms/step - loss: 1037227.2316\nEpoch 2/50\n721/721 [==============================] - 0s 191us/step - loss: 772612.9332\nEpoch 3/50\n721/721 [==============================] - 0s 191us/step - loss: 585429.4395\nEpoch 4/50\n721/721 [==============================] - 0s 169us/step - loss: 448718.2030\nEpoch 5/50\n721/721 [==============================] - 0s 168us/step - loss: 345756.1513\nEpoch 6/50\n721/721 [==============================] - 0s 161us/step - loss: 265988.3057\nEpoch 7/50\n721/721 [==============================] - 0s 160us/step - loss: 202989.2163\nEpoch 8/50\n721/721 [==============================] - 0s 144us/step - loss: 152888.1643\nEpoch 9/50\n721/721 [==============================] - 0s 172us/step - loss: 112966.3047\nEpoch 10/50\n721/721 [==============================] - 0s 159us/step - loss: 81648.7349\nEpoch 11/50\n721/721 [==============================] - 0s 172us/step - loss: 57510.9136\nEpoch 12/50\n721/721 [==============================] - 0s 181us/step - loss: 39329.1890\nEpoch 13/50\n721/721 [==============================] - 0s 141us/step - loss: 26120.8219\nEpoch 14/50\n721/721 [==============================] - 0s 171us/step - loss: 16871.8582\nEpoch 15/50\n721/721 [==============================] - 0s 172us/step - loss: 10665.9532\nEpoch 16/50\n721/721 [==============================] - 0s 152us/step - loss: 6659.2477\nEpoch 17/50\n721/721 [==============================] - 0s 165us/step - loss: 4205.3278\nEpoch 18/50\n721/721 [==============================] - 0s 145us/step - loss: 2782.9691\nEpoch 19/50\n721/721 [==============================] - 0s 157us/step - loss: 1979.6976\nEpoch 20/50\n721/721 [==============================] - 0s 189us/step - loss: 1548.6144\nEpoch 21/50\n721/721 [==============================] - 0s 145us/step - loss: 1326.4037\nEpoch 22/50\n721/721 [==============================] - 0s 145us/step - loss: 1212.6862\nEpoch 23/50\n721/721 [==============================] - 0s 168us/step - loss: 1161.7163\nEpoch 24/50\n721/721 [==============================] - 0s 159us/step - loss: 1132.8888\nEpoch 25/50\n721/721 [==============================] - 2s 3ms/step - loss: 1116.5780\nEpoch 26/50\n721/721 [==============================] - 0s 161us/step - loss: 1106.9958\nEpoch 27/50\n721/721 [==============================] - 0s 149us/step - loss: 1099.4400\nEpoch 28/50\n721/721 [==============================] - 0s 162us/step - loss: 1092.2334\nEpoch 29/50\n721/721 [==============================] - 0s 233us/step - loss: 1085.2562\nEpoch 30/50\n721/721 [==============================] - 0s 168us/step - loss: 1078.9114\nEpoch 31/50\n721/721 [==============================] - 0s 171us/step - loss: 1072.5224\nEpoch 32/50\n721/721 [==============================] - 0s 157us/step - loss: 1065.9756\nEpoch 33/50\n721/721 [==============================] - 0s 165us/step - loss: 1059.5898\nEpoch 34/50\n721/721 [==============================] - 0s 180us/step - loss: 1053.2125\nEpoch 35/50\n721/721 [==============================] - 0s 154us/step - loss: 1046.4585\nEpoch 36/50\n721/721 [==============================] - 0s 168us/step - loss: 1040.0108\nEpoch 37/50\n721/721 [==============================] - 0s 135us/step - loss: 1033.1197\nEpoch 38/50\n721/721 [==============================] - 0s 169us/step - loss: 1026.6981\nEpoch 39/50\n721/721 [==============================] - 0s 161us/step - loss: 1020.1685\nEpoch 40/50\n721/721 [==============================] - 0s 137us/step - loss: 1013.1722\nEpoch 41/50\n721/721 [==============================] - 0s 163us/step - loss: 1006.2068\nEpoch 42/50\n721/721 [==============================] - 0s 167us/step - loss: 999.4673\nEpoch 43/50\n721/721 [==============================] - 0s 171us/step - loss: 992.7086\nEpoch 44/50\n721/721 [==============================] - 0s 153us/step - loss: 986.7276\nEpoch 45/50\n721/721 [==============================] - 0s 164us/step - loss: 979.1394\nEpoch 46/50\n721/721 [==============================] - 4s 5ms/step - loss: 972.3180\nEpoch 47/50\n721/721 [==============================] - 0s 143us/step - loss: 965.4133\nEpoch 48/50\n721/721 [==============================] - 0s 160us/step - loss: 958.5560\nEpoch 49/50\n721/721 [==============================] - 0s 157us/step - loss: 952.1952\nEpoch 50/50\n721/721 [==============================] - 2s 3ms/step - loss: 945.1796\n",
                    "name": "stdout"
                },
                {
                    "output_type": "execute_result",
                    "execution_count": 36,
                    "data": {
                        "text/plain": "<keras.callbacks.History at 0x7fcd8a315860>"
                    },
                    "metadata": {}
                }
            ]
        },
        {
            "metadata": {},
            "cell_type": "code",
            "source": "\nloss_val = model.evaluate(X_test, y_test)\ny_pred = model.predict(X_test)\nloss_val",
            "execution_count": 37,
            "outputs": [
                {
                    "output_type": "stream",
                    "text": "309/309 [==============================] - 0s 275us/step\n",
                    "name": "stdout"
                },
                {
                    "output_type": "execute_result",
                    "execution_count": 37,
                    "data": {
                        "text/plain": "918.479072249823"
                    },
                    "metadata": {}
                }
            ]
        },
        {
            "metadata": {},
            "cell_type": "code",
            "source": "\nfrom sklearn.metrics import mean_squared_error",
            "execution_count": 38,
            "outputs": []
        },
        {
            "metadata": {},
            "cell_type": "code",
            "source": "mean_square_error = mean_squared_error(y_test, y_pred)\nmean = np.mean(mean_square_error)\nstandard_deviation = np.std(mean_square_error)\nprint(mean, standard_deviation)\n",
            "execution_count": 39,
            "outputs": [
                {
                    "output_type": "stream",
                    "text": "918.4790800990967 0.0\n",
                    "name": "stdout"
                }
            ]
        },
        {
            "metadata": {},
            "cell_type": "code",
            "source": "total_mean_squared_errors = 50\nepochs = 50\nmean_squared_errors = []\nfor i in range(0, total_mean_squared_errors):\n    X_train, X_test, y_train, y_test = train_test_split(predictors, target, test_size=0.3, random_state=i)\n    model.fit(X_train, y_train, epochs=epochs, verbose=0)\n    MSE = model.evaluate(X_test, y_test, verbose=0)\n    print(\"MSE \"+str(i+1)+\": \"+str(MSE))\n    y_pred = model.predict(X_test)\n    mean_square_error = mean_squared_error(y_test, y_pred)\n    mean_squared_errors.append(mean_square_error)\n\nmean_squared_errors = np.array(mean_squared_errors)\nmean = np.mean(mean_squared_errors)\nstandard_deviation = np.std(mean_squared_errors)\n\nprint('\\n')\nprint(\"Below is the mean and standard deviation of \" +str(total_mean_squared_errors) + \" mean squared errors without normalized data. Total number of epochs for each training is: \" +str(epochs) + \"\\n\")\nprint(\"Mean: \"+str(mean))\nprint(\"Standard Deviation: \"+str(standard_deviation))",
            "execution_count": 40,
            "outputs": [
                {
                    "output_type": "stream",
                    "text": "MSE 1: 592.7525225889335\nMSE 2: 388.04128732033143\nMSE 3: 226.2903350533791\nMSE 4: 173.95865717520607\nMSE 5: 151.64134320009103\nMSE 6: 118.66350839361789\nMSE 7: 138.58777665320338\nMSE 8: 102.52237177975356\nMSE 9: 119.14759076066002\nMSE 10: 107.98717639515701\nMSE 11: 65.35691092778178\nMSE 12: 54.318754165303744\nMSE 13: 61.22718636966446\nMSE 14: 55.11122126409537\nMSE 15: 50.91941970528908\nMSE 16: 43.78308367806345\nMSE 17: 47.11448112660627\nMSE 18: 50.3747172679716\nMSE 19: 50.9133335965351\nMSE 20: 48.198016367298116\nMSE 21: 46.031722380505414\nMSE 22: 50.73448965078804\nMSE 23: 44.87716861218696\nMSE 24: 46.27139426666556\nMSE 25: 49.96732829072329\nMSE 26: 48.26224979536433\nMSE 27: 55.37392272455407\nMSE 28: 51.58035161039976\nMSE 29: 52.20133356137569\nMSE 30: 52.710094970406836\nMSE 31: 52.34474429034878\nMSE 32: 51.45771783378132\nMSE 33: 48.09618360402129\nMSE 34: 49.43087521648716\nMSE 35: 55.56208882748502\nMSE 36: 53.80904106954927\nMSE 37: 55.37875073010096\nMSE 38: 53.43501160754355\nMSE 39: 49.21872753155656\nMSE 40: 44.20635435727808\nMSE 41: 54.59949876112459\nMSE 42: 49.73375417962429\nMSE 43: 76.02488376407561\nMSE 44: 51.16367512922071\nMSE 45: 51.934625347841134\nMSE 46: 53.76628265874671\nMSE 47: 48.071369739026316\nMSE 48: 53.12713513173718\nMSE 49: 48.570276562835794\nMSE 50: 50.21483789832847\n\n\nBelow is the mean and standard deviation of 50 mean squared errors without normalized data. Total number of epochs for each training is: 50\n\nMean: 83.9013117524247\nStandard Deviation: 93.06495529259773\n",
                    "name": "stdout"
                }
            ]
        }
    ],
    "metadata": {
        "kernelspec": {
            "name": "python3",
            "display_name": "Python 3.6",
            "language": "python"
        },
        "language_info": {
            "name": "python",
            "version": "3.6.9",
            "mimetype": "text/x-python",
            "codemirror_mode": {
                "name": "ipython",
                "version": 3
            },
            "pygments_lexer": "ipython3",
            "nbconvert_exporter": "python",
            "file_extension": ".py"
        }
    },
    "nbformat": 4,
    "nbformat_minor": 1
}